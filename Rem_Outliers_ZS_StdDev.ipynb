{
 "cells": [
  {
   "cell_type": "markdown",
   "id": "46b932ca",
   "metadata": {},
   "source": [
    "# Outlier Removal Using Standard Deviation and Z-scores\n",
    "\n",
    "This notebook show two more data cleaning techniques: removing outliers using standard deviation and Z-Scores.These two methods are particularly effective when the data follows a normal distribution.\n",
    "\n",
    "**Key Concepts:**\n",
    "- **Standard Deviation:** a statistical measure of data dispersion that quantifies how much individual data points vary from the mean/average of a dataset\n",
    "- **Z-score:** measures how many standard deviations a data point is from the mean of its dataset"
   ]
  },
  {
   "cell_type": "markdown",
   "id": "813b921e",
   "metadata": {},
   "source": [
    "## Example 1: Height and Weight Dataset (Standard Deviation Method)\n",
    "\n",
    "I'll start with a dataset containing human height and weight data. The 'Height' column is a good candidate for this method because human heights typically follow a normal distribution. \n"
   ]
  },
  {
   "cell_type": "code",
   "execution_count": 14,
   "id": "7d1b809b",
   "metadata": {},
   "outputs": [],
   "source": [
    "import pandas as pd\n",
    "import matplotlib\n",
    "from matplotlib import pyplot as plt\n",
    "# Used for plotting the probability density function\n",
    "from scipy.stats import norm\n",
    "import numpy as np"
   ]
  },
  {
   "cell_type": "code",
   "execution_count": 15,
   "id": "bcb625c7",
   "metadata": {},
   "outputs": [
    {
     "data": {
      "text/html": [
       "<div>\n",
       "<style scoped>\n",
       "    .dataframe tbody tr th:only-of-type {\n",
       "        vertical-align: middle;\n",
       "    }\n",
       "\n",
       "    .dataframe tbody tr th {\n",
       "        vertical-align: top;\n",
       "    }\n",
       "\n",
       "    .dataframe thead th {\n",
       "        text-align: right;\n",
       "    }\n",
       "</style>\n",
       "<table border=\"1\" class=\"dataframe\">\n",
       "  <thead>\n",
       "    <tr style=\"text-align: right;\">\n",
       "      <th></th>\n",
       "      <th>Gender</th>\n",
       "      <th>Height</th>\n",
       "      <th>Weight</th>\n",
       "    </tr>\n",
       "  </thead>\n",
       "  <tbody>\n",
       "    <tr>\n",
       "      <th>7649</th>\n",
       "      <td>Female</td>\n",
       "      <td>63.082922</td>\n",
       "      <td>134.265299</td>\n",
       "    </tr>\n",
       "    <tr>\n",
       "      <th>285</th>\n",
       "      <td>Male</td>\n",
       "      <td>68.034822</td>\n",
       "      <td>189.084462</td>\n",
       "    </tr>\n",
       "    <tr>\n",
       "      <th>5044</th>\n",
       "      <td>Female</td>\n",
       "      <td>63.461665</td>\n",
       "      <td>128.950961</td>\n",
       "    </tr>\n",
       "    <tr>\n",
       "      <th>9784</th>\n",
       "      <td>Female</td>\n",
       "      <td>61.630456</td>\n",
       "      <td>131.524694</td>\n",
       "    </tr>\n",
       "    <tr>\n",
       "      <th>7004</th>\n",
       "      <td>Female</td>\n",
       "      <td>67.411834</td>\n",
       "      <td>147.360805</td>\n",
       "    </tr>\n",
       "  </tbody>\n",
       "</table>\n",
       "</div>"
      ],
      "text/plain": [
       "      Gender     Height      Weight\n",
       "7649  Female  63.082922  134.265299\n",
       "285     Male  68.034822  189.084462\n",
       "5044  Female  63.461665  128.950961\n",
       "9784  Female  61.630456  131.524694\n",
       "7004  Female  67.411834  147.360805"
      ]
     },
     "execution_count": 15,
     "metadata": {},
     "output_type": "execute_result"
    }
   ],
   "source": [
    "CSV_PATH = \"data/weight-height.csv\"\n",
    "\n",
    "df = pd.read_csv(CSV_PATH)\n",
    "df.sample(5)"
   ]
  },
  {
   "cell_type": "code",
   "execution_count": 16,
   "id": "84dbf062",
   "metadata": {},
   "outputs": [
    {
     "name": "stdout",
     "output_type": "stream",
     "text": [
      "Dataset Shape: (10000, 3)\n"
     ]
    }
   ],
   "source": [
    "print(f\"Dataset Shape: {df.shape}\")"
   ]
  },
  {
   "cell_type": "code",
   "execution_count": null,
   "id": "b9a48cbd",
   "metadata": {},
   "outputs": [
    {
     "name": "stdout",
     "output_type": "stream",
     "text": [
      "\n",
      "Statistical Summary for Price:\n"
     ]
    },
    {
     "ename": "KeyError",
     "evalue": "'height'",
     "output_type": "error",
     "traceback": [
      "\u001b[1;31m---------------------------------------------------------------------------\u001b[0m",
      "\u001b[1;31mKeyError\u001b[0m                                  Traceback (most recent call last)",
      "File \u001b[1;32mc:\\Users\\plang\\anaconda3\\Lib\\site-packages\\pandas\\core\\indexes\\base.py:3805\u001b[0m, in \u001b[0;36mIndex.get_loc\u001b[1;34m(self, key)\u001b[0m\n\u001b[0;32m   3804\u001b[0m \u001b[38;5;28;01mtry\u001b[39;00m:\n\u001b[1;32m-> 3805\u001b[0m     \u001b[38;5;28;01mreturn\u001b[39;00m \u001b[38;5;28mself\u001b[39m\u001b[38;5;241m.\u001b[39m_engine\u001b[38;5;241m.\u001b[39mget_loc(casted_key)\n\u001b[0;32m   3806\u001b[0m \u001b[38;5;28;01mexcept\u001b[39;00m \u001b[38;5;167;01mKeyError\u001b[39;00m \u001b[38;5;28;01mas\u001b[39;00m err:\n",
      "File \u001b[1;32mindex.pyx:167\u001b[0m, in \u001b[0;36mpandas._libs.index.IndexEngine.get_loc\u001b[1;34m()\u001b[0m\n",
      "File \u001b[1;32mindex.pyx:196\u001b[0m, in \u001b[0;36mpandas._libs.index.IndexEngine.get_loc\u001b[1;34m()\u001b[0m\n",
      "File \u001b[1;32mpandas\\\\_libs\\\\hashtable_class_helper.pxi:7081\u001b[0m, in \u001b[0;36mpandas._libs.hashtable.PyObjectHashTable.get_item\u001b[1;34m()\u001b[0m\n",
      "File \u001b[1;32mpandas\\\\_libs\\\\hashtable_class_helper.pxi:7089\u001b[0m, in \u001b[0;36mpandas._libs.hashtable.PyObjectHashTable.get_item\u001b[1;34m()\u001b[0m\n",
      "\u001b[1;31mKeyError\u001b[0m: 'height'",
      "\nThe above exception was the direct cause of the following exception:\n",
      "\u001b[1;31mKeyError\u001b[0m                                  Traceback (most recent call last)",
      "Cell \u001b[1;32mIn[19], line 2\u001b[0m\n\u001b[0;32m      1\u001b[0m \u001b[38;5;28mprint\u001b[39m(\u001b[38;5;124m\"\u001b[39m\u001b[38;5;130;01m\\n\u001b[39;00m\u001b[38;5;124mStatistical Summary for Price:\u001b[39m\u001b[38;5;124m\"\u001b[39m)\n\u001b[1;32m----> 2\u001b[0m display(df[\u001b[38;5;124m'\u001b[39m\u001b[38;5;124mheight\u001b[39m\u001b[38;5;124m'\u001b[39m]\u001b[38;5;241m.\u001b[39mdescribe())\n",
      "File \u001b[1;32mc:\\Users\\plang\\anaconda3\\Lib\\site-packages\\pandas\\core\\frame.py:4102\u001b[0m, in \u001b[0;36mDataFrame.__getitem__\u001b[1;34m(self, key)\u001b[0m\n\u001b[0;32m   4100\u001b[0m \u001b[38;5;28;01mif\u001b[39;00m \u001b[38;5;28mself\u001b[39m\u001b[38;5;241m.\u001b[39mcolumns\u001b[38;5;241m.\u001b[39mnlevels \u001b[38;5;241m>\u001b[39m \u001b[38;5;241m1\u001b[39m:\n\u001b[0;32m   4101\u001b[0m     \u001b[38;5;28;01mreturn\u001b[39;00m \u001b[38;5;28mself\u001b[39m\u001b[38;5;241m.\u001b[39m_getitem_multilevel(key)\n\u001b[1;32m-> 4102\u001b[0m indexer \u001b[38;5;241m=\u001b[39m \u001b[38;5;28mself\u001b[39m\u001b[38;5;241m.\u001b[39mcolumns\u001b[38;5;241m.\u001b[39mget_loc(key)\n\u001b[0;32m   4103\u001b[0m \u001b[38;5;28;01mif\u001b[39;00m is_integer(indexer):\n\u001b[0;32m   4104\u001b[0m     indexer \u001b[38;5;241m=\u001b[39m [indexer]\n",
      "File \u001b[1;32mc:\\Users\\plang\\anaconda3\\Lib\\site-packages\\pandas\\core\\indexes\\base.py:3812\u001b[0m, in \u001b[0;36mIndex.get_loc\u001b[1;34m(self, key)\u001b[0m\n\u001b[0;32m   3807\u001b[0m     \u001b[38;5;28;01mif\u001b[39;00m \u001b[38;5;28misinstance\u001b[39m(casted_key, \u001b[38;5;28mslice\u001b[39m) \u001b[38;5;129;01mor\u001b[39;00m (\n\u001b[0;32m   3808\u001b[0m         \u001b[38;5;28misinstance\u001b[39m(casted_key, abc\u001b[38;5;241m.\u001b[39mIterable)\n\u001b[0;32m   3809\u001b[0m         \u001b[38;5;129;01mand\u001b[39;00m \u001b[38;5;28many\u001b[39m(\u001b[38;5;28misinstance\u001b[39m(x, \u001b[38;5;28mslice\u001b[39m) \u001b[38;5;28;01mfor\u001b[39;00m x \u001b[38;5;129;01min\u001b[39;00m casted_key)\n\u001b[0;32m   3810\u001b[0m     ):\n\u001b[0;32m   3811\u001b[0m         \u001b[38;5;28;01mraise\u001b[39;00m InvalidIndexError(key)\n\u001b[1;32m-> 3812\u001b[0m     \u001b[38;5;28;01mraise\u001b[39;00m \u001b[38;5;167;01mKeyError\u001b[39;00m(key) \u001b[38;5;28;01mfrom\u001b[39;00m\u001b[38;5;250m \u001b[39m\u001b[38;5;21;01merr\u001b[39;00m\n\u001b[0;32m   3813\u001b[0m \u001b[38;5;28;01mexcept\u001b[39;00m \u001b[38;5;167;01mTypeError\u001b[39;00m:\n\u001b[0;32m   3814\u001b[0m     \u001b[38;5;66;03m# If we have a listlike key, _check_indexing_error will raise\u001b[39;00m\n\u001b[0;32m   3815\u001b[0m     \u001b[38;5;66;03m#  InvalidIndexError. Otherwise we fall through and re-raise\u001b[39;00m\n\u001b[0;32m   3816\u001b[0m     \u001b[38;5;66;03m#  the TypeError.\u001b[39;00m\n\u001b[0;32m   3817\u001b[0m     \u001b[38;5;28mself\u001b[39m\u001b[38;5;241m.\u001b[39m_check_indexing_error(key)\n",
      "\u001b[1;31mKeyError\u001b[0m: 'height'"
     ]
    }
   ],
   "source": [
    "## COME BACK TO THIS!!!\n",
    "print(\"\\nStatistical Summary for Price:\")\n",
    "display(df['height'].describe())"
   ]
  },
  {
   "cell_type": "markdown",
   "id": "f1c39247",
   "metadata": {},
   "source": [
    "### Visualizing the Height Distribution\n",
    "\n",
    "Before applying statistical rules, it's good to visualize the data's distribution. The distribution of heights forms a classic \"bell curve,\" confirming that it is normally distributed. This is a strong indicator that the standard deviation method is a suitable choice for outlier detection."
   ]
  },
  {
   "cell_type": "code",
   "execution_count": null,
   "id": "e9b2d159",
   "metadata": {},
   "outputs": [
    {
     "data": {
      "text/plain": [
       "<function matplotlib.pyplot.show(close=None, block=None)>"
      ]
     },
     "execution_count": 7,
     "metadata": {},
     "output_type": "execute_result"
    },
    {
     "data": {
      "image/png": "[encoded data removed]",
      "text/plain": [
       "<Figure size 640x480 with 1 Axes>"
      ]
     },
     "metadata": {},
     "output_type": "display_data"
    }
   ],
   "source": [
    "# Create a histogram to visualize the distribution of heights\n",
    "plt.hist(df['Height'], bins = 20, rwidth=0.9)\n",
    "plt.xlabel(\"height\")\n",
    "plt.ylabel(\"count\")\n",
    "plt.show"
   ]
  },
  {
   "cell_type": "code",
   "execution_count": null,
   "id": "dbfd8d23",
   "metadata": {},
   "outputs": [
    {
     "data": {
      "text/plain": [
       "[<matplotlib.lines.Line2D at 0x1de5dd80a50>]"
      ]
     },
     "execution_count": 8,
     "metadata": {},
     "output_type": "execute_result"
    },
    {
     "data": {
      "image/png": "[encoded data removed]",
      "text/plain": [
       "<Figure size 640x480 with 1 Axes>"
      ]
     },
     "metadata": {},
     "output_type": "display_data"
    }
   ],
   "source": [
    "plt.hist(df['Height'], bins = 20, rwidth=0.9, density=True)\n",
    "plt.xlabel(\"height\")\n",
    "plt.ylabel(\"count\")\n",
    "\n",
    "# Overlay the normal distribution curve (Probability Density Function)\n",
    "rng = np.arange(df['Height'].min(), df['Height'].max(), 0.1 )\n",
    "plt.plot(rng, norm.pdf(rng, df['Height'].mean(), df['Height'].std()))"
   ]
  },
  {
   "cell_type": "markdown",
   "id": "888e9a80",
   "metadata": {},
   "source": [
    "### Outlier Detection Using the Empirical Rule (3 Standard Deviations)\n",
    "\n",
    "For normally distributed data, the **Empirical Rule** states that approximately **99.7%** of data points lie within **three standard deviations** of the mean. With this knowledge, it's safe to assume that any data point falling outside of this range is likely an outlier. I will use this to calculate my lower and upper boundaries\n"
   ]
  },
  {
   "cell_type": "code",
   "execution_count": null,
   "id": "781ac904",
   "metadata": {},
   "outputs": [
    {
     "name": "stdout",
     "output_type": "stream",
     "text": [
      "Upper Threshold: 77.91\n",
      "Lower Threshold: 54.82\n"
     ]
    }
   ],
   "source": [
    "# Calculate the mean and standard deviation of the 'Height' column\n",
    "mean_height = df['Height'].mean()\n",
    "std_height = df['Height'].std()\n",
    "\n",
    "# Calculate the upper and lower thresholds\n",
    "upper_threshold = mean_height + 3 * std_height\n",
    "lower_threshold = mean_height - 3 * std_height\n",
    "\n",
    "print(f\"Upper Threshold: {upper_threshold:.2f}\")\n",
    "print(f\"Lower Threshold: {lower_threshold:.2f}\")"
   ]
  },
  {
   "cell_type": "markdown",
   "id": "2b2ca51b",
   "metadata": {},
   "source": [
    "### Filtering Out the Outliers\n",
    "\n",
    "With these thresholds, I can see which data points fall outside this range. I will then create a new DataFrame that excludes these outliers."
   ]
  },
  {
   "cell_type": "code",
   "execution_count": null,
   "id": "389cf3d2",
   "metadata": {},
   "outputs": [
    {
     "name": "stdout",
     "output_type": "stream",
     "text": [
      "Upper Outliers:\n"
     ]
    },
    {
     "data": {
      "text/html": [
       "<div>\n",
       "<style scoped>\n",
       "    .dataframe tbody tr th:only-of-type {\n",
       "        vertical-align: middle;\n",
       "    }\n",
       "\n",
       "    .dataframe tbody tr th {\n",
       "        vertical-align: top;\n",
       "    }\n",
       "\n",
       "    .dataframe thead th {\n",
       "        text-align: right;\n",
       "    }\n",
       "</style>\n",
       "<table border=\"1\" class=\"dataframe\">\n",
       "  <thead>\n",
       "    <tr style=\"text-align: right;\">\n",
       "      <th></th>\n",
       "      <th>Gender</th>\n",
       "      <th>Height</th>\n",
       "      <th>Weight</th>\n",
       "    </tr>\n",
       "  </thead>\n",
       "  <tbody>\n",
       "    <tr>\n",
       "      <th>994</th>\n",
       "      <td>Male</td>\n",
       "      <td>78.095867</td>\n",
       "      <td>255.690835</td>\n",
       "    </tr>\n",
       "    <tr>\n",
       "      <th>1317</th>\n",
       "      <td>Male</td>\n",
       "      <td>78.462053</td>\n",
       "      <td>227.342565</td>\n",
       "    </tr>\n",
       "    <tr>\n",
       "      <th>2014</th>\n",
       "      <td>Male</td>\n",
       "      <td>78.998742</td>\n",
       "      <td>269.989699</td>\n",
       "    </tr>\n",
       "    <tr>\n",
       "      <th>3285</th>\n",
       "      <td>Male</td>\n",
       "      <td>78.528210</td>\n",
       "      <td>253.889004</td>\n",
       "    </tr>\n",
       "    <tr>\n",
       "      <th>3757</th>\n",
       "      <td>Male</td>\n",
       "      <td>78.621374</td>\n",
       "      <td>245.733783</td>\n",
       "    </tr>\n",
       "  </tbody>\n",
       "</table>\n",
       "</div>"
      ],
      "text/plain": [
       "     Gender     Height      Weight\n",
       "994    Male  78.095867  255.690835\n",
       "1317   Male  78.462053  227.342565\n",
       "2014   Male  78.998742  269.989699\n",
       "3285   Male  78.528210  253.889004\n",
       "3757   Male  78.621374  245.733783"
      ]
     },
     "execution_count": 10,
     "metadata": {},
     "output_type": "execute_result"
    }
   ],
   "source": [
    "# Show the outliers above the upper threshold\n",
    "print(\"Upper Outliers:\")\n",
    "df[df[\"Height\"] > upper_threshold]"
   ]
  },
  {
   "cell_type": "code",
   "execution_count": null,
   "id": "d829daab",
   "metadata": {},
   "outputs": [
    {
     "name": "stdout",
     "output_type": "stream",
     "text": [
      "\n",
      "Lower Outliers:\n"
     ]
    },
    {
     "data": {
      "text/html": [
       "<div>\n",
       "<style scoped>\n",
       "    .dataframe tbody tr th:only-of-type {\n",
       "        vertical-align: middle;\n",
       "    }\n",
       "\n",
       "    .dataframe tbody tr th {\n",
       "        vertical-align: top;\n",
       "    }\n",
       "\n",
       "    .dataframe thead th {\n",
       "        text-align: right;\n",
       "    }\n",
       "</style>\n",
       "<table border=\"1\" class=\"dataframe\">\n",
       "  <thead>\n",
       "    <tr style=\"text-align: right;\">\n",
       "      <th></th>\n",
       "      <th>Gender</th>\n",
       "      <th>Height</th>\n",
       "      <th>Weight</th>\n",
       "    </tr>\n",
       "  </thead>\n",
       "  <tbody>\n",
       "    <tr>\n",
       "      <th>6624</th>\n",
       "      <td>Female</td>\n",
       "      <td>54.616858</td>\n",
       "      <td>71.393749</td>\n",
       "    </tr>\n",
       "    <tr>\n",
       "      <th>9285</th>\n",
       "      <td>Female</td>\n",
       "      <td>54.263133</td>\n",
       "      <td>64.700127</td>\n",
       "    </tr>\n",
       "  </tbody>\n",
       "</table>\n",
       "</div>"
      ],
      "text/plain": [
       "      Gender     Height     Weight\n",
       "6624  Female  54.616858  71.393749\n",
       "9285  Female  54.263133  64.700127"
      ]
     },
     "execution_count": 11,
     "metadata": {},
     "output_type": "execute_result"
    }
   ],
   "source": [
    "# Show the outliers below the lower threshold\n",
    "print(\"\\nLower Outliers:\")\n",
    "df[df['Height'] < lower_threshold]"
   ]
  },
  {
   "cell_type": "code",
   "execution_count": null,
   "id": "14f828c5",
   "metadata": {},
   "outputs": [
    {
     "data": {
      "text/html": [
       "<div>\n",
       "<style scoped>\n",
       "    .dataframe tbody tr th:only-of-type {\n",
       "        vertical-align: middle;\n",
       "    }\n",
       "\n",
       "    .dataframe tbody tr th {\n",
       "        vertical-align: top;\n",
       "    }\n",
       "\n",
       "    .dataframe thead th {\n",
       "        text-align: right;\n",
       "    }\n",
       "</style>\n",
       "<table border=\"1\" class=\"dataframe\">\n",
       "  <thead>\n",
       "    <tr style=\"text-align: right;\">\n",
       "      <th></th>\n",
       "      <th>Gender</th>\n",
       "      <th>Height</th>\n",
       "      <th>Weight</th>\n",
       "    </tr>\n",
       "  </thead>\n",
       "  <tbody>\n",
       "    <tr>\n",
       "      <th>7840</th>\n",
       "      <td>Female</td>\n",
       "      <td>64.009873</td>\n",
       "      <td>127.955175</td>\n",
       "    </tr>\n",
       "    <tr>\n",
       "      <th>5464</th>\n",
       "      <td>Female</td>\n",
       "      <td>66.892737</td>\n",
       "      <td>161.098982</td>\n",
       "    </tr>\n",
       "    <tr>\n",
       "      <th>181</th>\n",
       "      <td>Male</td>\n",
       "      <td>69.553385</td>\n",
       "      <td>210.871799</td>\n",
       "    </tr>\n",
       "    <tr>\n",
       "      <th>1072</th>\n",
       "      <td>Male</td>\n",
       "      <td>68.322982</td>\n",
       "      <td>178.413189</td>\n",
       "    </tr>\n",
       "    <tr>\n",
       "      <th>9926</th>\n",
       "      <td>Female</td>\n",
       "      <td>63.171535</td>\n",
       "      <td>142.747754</td>\n",
       "    </tr>\n",
       "    <tr>\n",
       "      <th>6088</th>\n",
       "      <td>Female</td>\n",
       "      <td>66.422117</td>\n",
       "      <td>156.752631</td>\n",
       "    </tr>\n",
       "    <tr>\n",
       "      <th>1825</th>\n",
       "      <td>Male</td>\n",
       "      <td>64.608099</td>\n",
       "      <td>172.315967</td>\n",
       "    </tr>\n",
       "    <tr>\n",
       "      <th>544</th>\n",
       "      <td>Male</td>\n",
       "      <td>68.403726</td>\n",
       "      <td>206.014940</td>\n",
       "    </tr>\n",
       "    <tr>\n",
       "      <th>8274</th>\n",
       "      <td>Female</td>\n",
       "      <td>64.405332</td>\n",
       "      <td>127.943947</td>\n",
       "    </tr>\n",
       "    <tr>\n",
       "      <th>944</th>\n",
       "      <td>Male</td>\n",
       "      <td>70.811262</td>\n",
       "      <td>201.224277</td>\n",
       "    </tr>\n",
       "  </tbody>\n",
       "</table>\n",
       "</div>"
      ],
      "text/plain": [
       "      Gender     Height      Weight\n",
       "7840  Female  64.009873  127.955175\n",
       "5464  Female  66.892737  161.098982\n",
       "181     Male  69.553385  210.871799\n",
       "1072    Male  68.322982  178.413189\n",
       "9926  Female  63.171535  142.747754\n",
       "6088  Female  66.422117  156.752631\n",
       "1825    Male  64.608099  172.315967\n",
       "544     Male  68.403726  206.014940\n",
       "8274  Female  64.405332  127.943947\n",
       "944     Male  70.811262  201.224277"
      ]
     },
     "execution_count": 12,
     "metadata": {},
     "output_type": "execute_result"
    }
   ],
   "source": [
    "# Create a new DataFrame that excludes the outliers\n",
    "df_filtered = df[(df['Height'] > lower_threshold) & \n",
    "                 (df['Height'] < upper_threshold)]\n",
    "\n",
    "df_filtered.sample(10)"
   ]
  },
  {
   "cell_type": "code",
   "execution_count": 18,
   "id": "270eea00",
   "metadata": {},
   "outputs": [
    {
     "name": "stdout",
     "output_type": "stream",
     "text": [
      "\n",
      "Original DataFrame shape: (10000, 3)\n",
      "Filtered DataFrame shape: (9993, 3)\n"
     ]
    }
   ],
   "source": [
    "# Compare the shapes of the original and filtered DataFrames\n",
    "print(\"\\nOriginal DataFrame shape:\", df.shape)\n",
    "print(\"Filtered DataFrame shape:\", df_filtered.shape)"
   ]
  },
  {
   "cell_type": "markdown",
   "id": "eb217235",
   "metadata": {},
   "source": [
    "## Example 2: Height and Weight Dataset (Z-Score Method)\n",
    "\n",
    "The Z-score method is another way to apply the same logic as the standard deviation method. Instead of calculating a specific upper and lower threshold based on the data's units, the Z-score standardizes the data. Each data point is converted to a Z-score, which tells you how many standard deviations it is away from the mean. We can then filter out any data point with a Z-score above 3 or below -3"
   ]
  },
  {
   "cell_type": "markdown",
   "id": "7592aba4",
   "metadata": {},
   "source": [
    "### Applying the Z-Score Formula\n",
    "\n",
    "First, I'll calculate the Z-score for each data point in the 'Height' column and add these values to a new column called z-score. This makes it simple to see how far each point is from the mean and allows for easy filtering in the future."
   ]
  },
  {
   "cell_type": "code",
   "execution_count": 20,
   "id": "12d5270a",
   "metadata": {},
   "outputs": [
    {
     "data": {
      "text/html": [
       "<div>\n",
       "<style scoped>\n",
       "    .dataframe tbody tr th:only-of-type {\n",
       "        vertical-align: middle;\n",
       "    }\n",
       "\n",
       "    .dataframe tbody tr th {\n",
       "        vertical-align: top;\n",
       "    }\n",
       "\n",
       "    .dataframe thead th {\n",
       "        text-align: right;\n",
       "    }\n",
       "</style>\n",
       "<table border=\"1\" class=\"dataframe\">\n",
       "  <thead>\n",
       "    <tr style=\"text-align: right;\">\n",
       "      <th></th>\n",
       "      <th>Gender</th>\n",
       "      <th>Height</th>\n",
       "      <th>Weight</th>\n",
       "      <th>zscore</th>\n",
       "    </tr>\n",
       "  </thead>\n",
       "  <tbody>\n",
       "    <tr>\n",
       "      <th>1534</th>\n",
       "      <td>Male</td>\n",
       "      <td>72.279517</td>\n",
       "      <td>198.836515</td>\n",
       "      <td>1.536560</td>\n",
       "    </tr>\n",
       "    <tr>\n",
       "      <th>775</th>\n",
       "      <td>Male</td>\n",
       "      <td>65.453957</td>\n",
       "      <td>175.844485</td>\n",
       "      <td>-0.237452</td>\n",
       "    </tr>\n",
       "    <tr>\n",
       "      <th>1945</th>\n",
       "      <td>Male</td>\n",
       "      <td>75.009944</td>\n",
       "      <td>221.454089</td>\n",
       "      <td>2.246217</td>\n",
       "    </tr>\n",
       "    <tr>\n",
       "      <th>8953</th>\n",
       "      <td>Female</td>\n",
       "      <td>61.775039</td>\n",
       "      <td>128.342568</td>\n",
       "      <td>-1.193629</td>\n",
       "    </tr>\n",
       "    <tr>\n",
       "      <th>6414</th>\n",
       "      <td>Female</td>\n",
       "      <td>64.095518</td>\n",
       "      <td>149.274100</td>\n",
       "      <td>-0.590520</td>\n",
       "    </tr>\n",
       "    <tr>\n",
       "      <th>3137</th>\n",
       "      <td>Male</td>\n",
       "      <td>69.923714</td>\n",
       "      <td>207.074913</td>\n",
       "      <td>0.924270</td>\n",
       "    </tr>\n",
       "    <tr>\n",
       "      <th>6933</th>\n",
       "      <td>Female</td>\n",
       "      <td>62.311533</td>\n",
       "      <td>136.236833</td>\n",
       "      <td>-1.054190</td>\n",
       "    </tr>\n",
       "    <tr>\n",
       "      <th>6663</th>\n",
       "      <td>Female</td>\n",
       "      <td>66.235095</td>\n",
       "      <td>145.217178</td>\n",
       "      <td>-0.034429</td>\n",
       "    </tr>\n",
       "    <tr>\n",
       "      <th>768</th>\n",
       "      <td>Male</td>\n",
       "      <td>69.553614</td>\n",
       "      <td>203.811091</td>\n",
       "      <td>0.828078</td>\n",
       "    </tr>\n",
       "    <tr>\n",
       "      <th>5989</th>\n",
       "      <td>Female</td>\n",
       "      <td>60.978009</td>\n",
       "      <td>125.104336</td>\n",
       "      <td>-1.400783</td>\n",
       "    </tr>\n",
       "  </tbody>\n",
       "</table>\n",
       "</div>"
      ],
      "text/plain": [
       "      Gender     Height      Weight    zscore\n",
       "1534    Male  72.279517  198.836515  1.536560\n",
       "775     Male  65.453957  175.844485 -0.237452\n",
       "1945    Male  75.009944  221.454089  2.246217\n",
       "8953  Female  61.775039  128.342568 -1.193629\n",
       "6414  Female  64.095518  149.274100 -0.590520\n",
       "3137    Male  69.923714  207.074913  0.924270\n",
       "6933  Female  62.311533  136.236833 -1.054190\n",
       "6663  Female  66.235095  145.217178 -0.034429\n",
       "768     Male  69.553614  203.811091  0.828078\n",
       "5989  Female  60.978009  125.104336 -1.400783"
      ]
     },
     "execution_count": 20,
     "metadata": {},
     "output_type": "execute_result"
    }
   ],
   "source": [
    "df['zscore'] = (df['Height'] - df[\"Height\"].mean()) / df['Height'].std()\n",
    "df.sample(10)"
   ]
  },
  {
   "cell_type": "code",
   "execution_count": 22,
   "id": "90573e39",
   "metadata": {},
   "outputs": [
    {
     "data": {
      "text/html": [
       "<div>\n",
       "<style scoped>\n",
       "    .dataframe tbody tr th:only-of-type {\n",
       "        vertical-align: middle;\n",
       "    }\n",
       "\n",
       "    .dataframe tbody tr th {\n",
       "        vertical-align: top;\n",
       "    }\n",
       "\n",
       "    .dataframe thead th {\n",
       "        text-align: right;\n",
       "    }\n",
       "</style>\n",
       "<table border=\"1\" class=\"dataframe\">\n",
       "  <thead>\n",
       "    <tr style=\"text-align: right;\">\n",
       "      <th></th>\n",
       "      <th>Gender</th>\n",
       "      <th>Height</th>\n",
       "      <th>Weight</th>\n",
       "      <th>zscore</th>\n",
       "    </tr>\n",
       "  </thead>\n",
       "  <tbody>\n",
       "    <tr>\n",
       "      <th>994</th>\n",
       "      <td>Male</td>\n",
       "      <td>78.095867</td>\n",
       "      <td>255.690835</td>\n",
       "      <td>3.048271</td>\n",
       "    </tr>\n",
       "    <tr>\n",
       "      <th>1317</th>\n",
       "      <td>Male</td>\n",
       "      <td>78.462053</td>\n",
       "      <td>227.342565</td>\n",
       "      <td>3.143445</td>\n",
       "    </tr>\n",
       "    <tr>\n",
       "      <th>2014</th>\n",
       "      <td>Male</td>\n",
       "      <td>78.998742</td>\n",
       "      <td>269.989699</td>\n",
       "      <td>3.282934</td>\n",
       "    </tr>\n",
       "    <tr>\n",
       "      <th>3285</th>\n",
       "      <td>Male</td>\n",
       "      <td>78.528210</td>\n",
       "      <td>253.889004</td>\n",
       "      <td>3.160640</td>\n",
       "    </tr>\n",
       "    <tr>\n",
       "      <th>3757</th>\n",
       "      <td>Male</td>\n",
       "      <td>78.621374</td>\n",
       "      <td>245.733783</td>\n",
       "      <td>3.184854</td>\n",
       "    </tr>\n",
       "  </tbody>\n",
       "</table>\n",
       "</div>"
      ],
      "text/plain": [
       "     Gender     Height      Weight    zscore\n",
       "994    Male  78.095867  255.690835  3.048271\n",
       "1317   Male  78.462053  227.342565  3.143445\n",
       "2014   Male  78.998742  269.989699  3.282934\n",
       "3285   Male  78.528210  253.889004  3.160640\n",
       "3757   Male  78.621374  245.733783  3.184854"
      ]
     },
     "execution_count": 22,
     "metadata": {},
     "output_type": "execute_result"
    }
   ],
   "source": [
    "# Notice how this is identical to the standard deviation method\n",
    "df[df['zscore'] > 3]"
   ]
  },
  {
   "cell_type": "code",
   "execution_count": 23,
   "id": "2702369c",
   "metadata": {},
   "outputs": [
    {
     "data": {
      "text/html": [
       "<div>\n",
       "<style scoped>\n",
       "    .dataframe tbody tr th:only-of-type {\n",
       "        vertical-align: middle;\n",
       "    }\n",
       "\n",
       "    .dataframe tbody tr th {\n",
       "        vertical-align: top;\n",
       "    }\n",
       "\n",
       "    .dataframe thead th {\n",
       "        text-align: right;\n",
       "    }\n",
       "</style>\n",
       "<table border=\"1\" class=\"dataframe\">\n",
       "  <thead>\n",
       "    <tr style=\"text-align: right;\">\n",
       "      <th></th>\n",
       "      <th>Gender</th>\n",
       "      <th>Height</th>\n",
       "      <th>Weight</th>\n",
       "      <th>zscore</th>\n",
       "    </tr>\n",
       "  </thead>\n",
       "  <tbody>\n",
       "    <tr>\n",
       "      <th>6624</th>\n",
       "      <td>Female</td>\n",
       "      <td>54.616858</td>\n",
       "      <td>71.393749</td>\n",
       "      <td>-3.054091</td>\n",
       "    </tr>\n",
       "    <tr>\n",
       "      <th>9285</th>\n",
       "      <td>Female</td>\n",
       "      <td>54.263133</td>\n",
       "      <td>64.700127</td>\n",
       "      <td>-3.146027</td>\n",
       "    </tr>\n",
       "  </tbody>\n",
       "</table>\n",
       "</div>"
      ],
      "text/plain": [
       "      Gender     Height     Weight    zscore\n",
       "6624  Female  54.616858  71.393749 -3.054091\n",
       "9285  Female  54.263133  64.700127 -3.146027"
      ]
     },
     "execution_count": 23,
     "metadata": {},
     "output_type": "execute_result"
    }
   ],
   "source": [
    "df[df['zscore']  < -3]"
   ]
  },
  {
   "cell_type": "code",
   "execution_count": 24,
   "id": "c957aa1e",
   "metadata": {},
   "outputs": [
    {
     "data": {
      "text/html": [
       "<div>\n",
       "<style scoped>\n",
       "    .dataframe tbody tr th:only-of-type {\n",
       "        vertical-align: middle;\n",
       "    }\n",
       "\n",
       "    .dataframe tbody tr th {\n",
       "        vertical-align: top;\n",
       "    }\n",
       "\n",
       "    .dataframe thead th {\n",
       "        text-align: right;\n",
       "    }\n",
       "</style>\n",
       "<table border=\"1\" class=\"dataframe\">\n",
       "  <thead>\n",
       "    <tr style=\"text-align: right;\">\n",
       "      <th></th>\n",
       "      <th>Gender</th>\n",
       "      <th>Height</th>\n",
       "      <th>Weight</th>\n",
       "      <th>zscore</th>\n",
       "    </tr>\n",
       "  </thead>\n",
       "  <tbody>\n",
       "    <tr>\n",
       "      <th>6830</th>\n",
       "      <td>Female</td>\n",
       "      <td>60.398516</td>\n",
       "      <td>126.983077</td>\n",
       "      <td>-1.551397</td>\n",
       "    </tr>\n",
       "    <tr>\n",
       "      <th>853</th>\n",
       "      <td>Male</td>\n",
       "      <td>70.613162</td>\n",
       "      <td>187.472024</td>\n",
       "      <td>1.103462</td>\n",
       "    </tr>\n",
       "    <tr>\n",
       "      <th>3432</th>\n",
       "      <td>Male</td>\n",
       "      <td>69.710176</td>\n",
       "      <td>184.055959</td>\n",
       "      <td>0.868770</td>\n",
       "    </tr>\n",
       "    <tr>\n",
       "      <th>1974</th>\n",
       "      <td>Male</td>\n",
       "      <td>70.866869</td>\n",
       "      <td>199.657175</td>\n",
       "      <td>1.169403</td>\n",
       "    </tr>\n",
       "    <tr>\n",
       "      <th>3126</th>\n",
       "      <td>Male</td>\n",
       "      <td>71.594783</td>\n",
       "      <td>201.260629</td>\n",
       "      <td>1.358593</td>\n",
       "    </tr>\n",
       "    <tr>\n",
       "      <th>4596</th>\n",
       "      <td>Male</td>\n",
       "      <td>71.368891</td>\n",
       "      <td>205.216922</td>\n",
       "      <td>1.299882</td>\n",
       "    </tr>\n",
       "    <tr>\n",
       "      <th>6126</th>\n",
       "      <td>Female</td>\n",
       "      <td>59.512982</td>\n",
       "      <td>106.636430</td>\n",
       "      <td>-1.781554</td>\n",
       "    </tr>\n",
       "    <tr>\n",
       "      <th>5072</th>\n",
       "      <td>Female</td>\n",
       "      <td>60.578063</td>\n",
       "      <td>118.242812</td>\n",
       "      <td>-1.504732</td>\n",
       "    </tr>\n",
       "    <tr>\n",
       "      <th>3176</th>\n",
       "      <td>Male</td>\n",
       "      <td>67.374765</td>\n",
       "      <td>188.772154</td>\n",
       "      <td>0.261780</td>\n",
       "    </tr>\n",
       "    <tr>\n",
       "      <th>8652</th>\n",
       "      <td>Female</td>\n",
       "      <td>59.836041</td>\n",
       "      <td>103.265961</td>\n",
       "      <td>-1.697588</td>\n",
       "    </tr>\n",
       "  </tbody>\n",
       "</table>\n",
       "</div>"
      ],
      "text/plain": [
       "      Gender     Height      Weight    zscore\n",
       "6830  Female  60.398516  126.983077 -1.551397\n",
       "853     Male  70.613162  187.472024  1.103462\n",
       "3432    Male  69.710176  184.055959  0.868770\n",
       "1974    Male  70.866869  199.657175  1.169403\n",
       "3126    Male  71.594783  201.260629  1.358593\n",
       "4596    Male  71.368891  205.216922  1.299882\n",
       "6126  Female  59.512982  106.636430 -1.781554\n",
       "5072  Female  60.578063  118.242812 -1.504732\n",
       "3176    Male  67.374765  188.772154  0.261780\n",
       "8652  Female  59.836041  103.265961 -1.697588"
      ]
     },
     "execution_count": 24,
     "metadata": {},
     "output_type": "execute_result"
    }
   ],
   "source": [
    "df_filteredZ = df[(df['zscore'] > -3) & (df['zscore'] < 3)]\n",
    "df_filteredZ.sample(10)"
   ]
  },
  {
   "cell_type": "code",
   "execution_count": 26,
   "id": "7bbf033d",
   "metadata": {},
   "outputs": [
    {
     "name": "stdout",
     "output_type": "stream",
     "text": [
      "\n",
      "Original DataFrame shape: (10000, 4)\n",
      "Filtered DataFrame shape (std): (9993, 3)\n",
      "Filtered DataFrame shape (z-score): (9993, 4)\n"
     ]
    }
   ],
   "source": [
    "# Compare the shapes of the original and filtered DataFrames\n",
    "print(\"\\nOriginal DataFrame shape:\", df.shape)\n",
    "print(\"Filtered DataFrame shape (std):\", df_filtered.shape)\n",
    "print(\"Filtered DataFrame shape (z-score):\", df_filteredZ.shape)"
   ]
  },
  {
   "cell_type": "markdown",
   "id": "2bfac6ed",
   "metadata": {},
   "source": [
    "## Example 3: Bangalore House Prices (A Hybrid Approach)\n",
    "\n",
    "For this final example, I'll use the Bangalore house price dataset again. This time, I'll apply a more advanced, **two-step hybrid method** for outlier removal. This is often necessary for real-world data that is highly skewed and doesn't perfectly follow a normal distribution.\n",
    "\n",
    "The process will be:\n",
    "1.  **Initial Trim:** Use quantiles to remove the most extreme and obvious outliers.\n",
    "2.  **Refined Cut:** Apply the standard deviation or Z-score method on the *already-trimmed* data to remove the remaining, less extreme outliers."
   ]
  },
  {
   "cell_type": "markdown",
   "id": "e763640c",
   "metadata": {},
   "source": [
    "### Step 1: Initial Filtering with Quantiles\n",
    "\n",
    "To handle the most extreme data entry errors or luxury properties, I'll start by trimming the top and bottom 0.1% of the data using quantiles. This gives a cleaner, more reasonable distribution to work with before applying the next method."
   ]
  },
  {
   "cell_type": "code",
   "execution_count": 27,
   "id": "505a2919",
   "metadata": {},
   "outputs": [
    {
     "data": {
      "text/html": [
       "<div>\n",
       "<style scoped>\n",
       "    .dataframe tbody tr th:only-of-type {\n",
       "        vertical-align: middle;\n",
       "    }\n",
       "\n",
       "    .dataframe tbody tr th {\n",
       "        vertical-align: top;\n",
       "    }\n",
       "\n",
       "    .dataframe thead th {\n",
       "        text-align: right;\n",
       "    }\n",
       "</style>\n",
       "<table border=\"1\" class=\"dataframe\">\n",
       "  <thead>\n",
       "    <tr style=\"text-align: right;\">\n",
       "      <th></th>\n",
       "      <th>location</th>\n",
       "      <th>size</th>\n",
       "      <th>total_sqft</th>\n",
       "      <th>bath</th>\n",
       "      <th>price</th>\n",
       "      <th>bhk</th>\n",
       "      <th>price_per_sqft</th>\n",
       "    </tr>\n",
       "  </thead>\n",
       "  <tbody>\n",
       "    <tr>\n",
       "      <th>9695</th>\n",
       "      <td>Rajiv Nagar</td>\n",
       "      <td>4 BHK</td>\n",
       "      <td>2330.0</td>\n",
       "      <td>5.0</td>\n",
       "      <td>175.00</td>\n",
       "      <td>4</td>\n",
       "      <td>7510</td>\n",
       "    </tr>\n",
       "    <tr>\n",
       "      <th>9935</th>\n",
       "      <td>Thigalarapalya</td>\n",
       "      <td>3 BHK</td>\n",
       "      <td>1830.0</td>\n",
       "      <td>3.0</td>\n",
       "      <td>133.00</td>\n",
       "      <td>3</td>\n",
       "      <td>7267</td>\n",
       "    </tr>\n",
       "    <tr>\n",
       "      <th>7244</th>\n",
       "      <td>Uttarahalli</td>\n",
       "      <td>2 BHK</td>\n",
       "      <td>1099.0</td>\n",
       "      <td>2.0</td>\n",
       "      <td>65.00</td>\n",
       "      <td>2</td>\n",
       "      <td>5914</td>\n",
       "    </tr>\n",
       "    <tr>\n",
       "      <th>12982</th>\n",
       "      <td>other</td>\n",
       "      <td>2 BHK</td>\n",
       "      <td>1025.0</td>\n",
       "      <td>2.0</td>\n",
       "      <td>43.04</td>\n",
       "      <td>2</td>\n",
       "      <td>4199</td>\n",
       "    </tr>\n",
       "    <tr>\n",
       "      <th>2850</th>\n",
       "      <td>9th Phase JP Nagar</td>\n",
       "      <td>4 Bedroom</td>\n",
       "      <td>1200.0</td>\n",
       "      <td>3.0</td>\n",
       "      <td>188.00</td>\n",
       "      <td>4</td>\n",
       "      <td>15666</td>\n",
       "    </tr>\n",
       "    <tr>\n",
       "      <th>13056</th>\n",
       "      <td>Yelahanka New Town</td>\n",
       "      <td>3 BHK</td>\n",
       "      <td>1000.0</td>\n",
       "      <td>2.0</td>\n",
       "      <td>48.00</td>\n",
       "      <td>3</td>\n",
       "      <td>4800</td>\n",
       "    </tr>\n",
       "    <tr>\n",
       "      <th>5377</th>\n",
       "      <td>Uttarahalli</td>\n",
       "      <td>3 BHK</td>\n",
       "      <td>1300.0</td>\n",
       "      <td>2.0</td>\n",
       "      <td>47.00</td>\n",
       "      <td>3</td>\n",
       "      <td>3615</td>\n",
       "    </tr>\n",
       "    <tr>\n",
       "      <th>1414</th>\n",
       "      <td>Horamavu Banaswadi</td>\n",
       "      <td>2 BHK</td>\n",
       "      <td>1156.0</td>\n",
       "      <td>2.0</td>\n",
       "      <td>46.00</td>\n",
       "      <td>2</td>\n",
       "      <td>3979</td>\n",
       "    </tr>\n",
       "    <tr>\n",
       "      <th>8132</th>\n",
       "      <td>Rajaji Nagar</td>\n",
       "      <td>3 BHK</td>\n",
       "      <td>1800.0</td>\n",
       "      <td>3.0</td>\n",
       "      <td>240.00</td>\n",
       "      <td>3</td>\n",
       "      <td>13333</td>\n",
       "    </tr>\n",
       "    <tr>\n",
       "      <th>11668</th>\n",
       "      <td>other</td>\n",
       "      <td>2 BHK</td>\n",
       "      <td>1275.0</td>\n",
       "      <td>2.0</td>\n",
       "      <td>76.00</td>\n",
       "      <td>2</td>\n",
       "      <td>5960</td>\n",
       "    </tr>\n",
       "  </tbody>\n",
       "</table>\n",
       "</div>"
      ],
      "text/plain": [
       "                 location       size  total_sqft  bath   price  bhk  \\\n",
       "9695          Rajiv Nagar      4 BHK      2330.0   5.0  175.00    4   \n",
       "9935       Thigalarapalya      3 BHK      1830.0   3.0  133.00    3   \n",
       "7244          Uttarahalli      2 BHK      1099.0   2.0   65.00    2   \n",
       "12982               other      2 BHK      1025.0   2.0   43.04    2   \n",
       "2850   9th Phase JP Nagar  4 Bedroom      1200.0   3.0  188.00    4   \n",
       "13056  Yelahanka New Town      3 BHK      1000.0   2.0   48.00    3   \n",
       "5377          Uttarahalli      3 BHK      1300.0   2.0   47.00    3   \n",
       "1414   Horamavu Banaswadi      2 BHK      1156.0   2.0   46.00    2   \n",
       "8132         Rajaji Nagar      3 BHK      1800.0   3.0  240.00    3   \n",
       "11668               other      2 BHK      1275.0   2.0   76.00    2   \n",
       "\n",
       "       price_per_sqft  \n",
       "9695             7510  \n",
       "9935             7267  \n",
       "7244             5914  \n",
       "12982            4199  \n",
       "2850            15666  \n",
       "13056            4800  \n",
       "5377             3615  \n",
       "1414             3979  \n",
       "8132            13333  \n",
       "11668            5960  "
      ]
     },
     "execution_count": 27,
     "metadata": {},
     "output_type": "execute_result"
    }
   ],
   "source": [
    "CSV_PATH = \"data/bhp.csv\"\n",
    "df = pd.read_csv(CSV_PATH)\n",
    "df.sample(10)"
   ]
  },
  {
   "cell_type": "code",
   "execution_count": 33,
   "id": "6394884c",
   "metadata": {},
   "outputs": [
    {
     "name": "stdout",
     "output_type": "stream",
     "text": [
      "Upper Limit (4 std dev): 50959.36\n",
      "Lower Limit (4 std dev): 1366.18\n"
     ]
    }
   ],
   "source": [
    "# Define the upper and lower quantile thresholds\n",
    "upper_quantile = df['price_per_sqft'].quantile(.999)\n",
    "lower_quantile = df['price_per_sqft'].quantile(.001)\n",
    "\n",
    "print(f\"Upper Limit (4 std dev): {upper_quantile:.2f}\")\n",
    "print(f\"Lower Limit (4 std dev): {lower_quantile:.2f}\")"
   ]
  },
  {
   "cell_type": "code",
   "execution_count": 30,
   "id": "b2236ad9",
   "metadata": {},
   "outputs": [],
   "source": [
    "# Create a new DataFrame by filtering out the extreme quantiles\n",
    "df_quantile = df[(df['price_per_sqft'] < upper_quantile) & (df[\"price_per_sqft\"] > lower_quantile)]"
   ]
  },
  {
   "cell_type": "code",
   "execution_count": 31,
   "id": "63387887",
   "metadata": {},
   "outputs": [
    {
     "name": "stdout",
     "output_type": "stream",
     "text": [
      "Original DataFrame shape: (13200, 7)\n",
      "Shape after quantile filtering: (13172, 7)\n"
     ]
    }
   ],
   "source": [
    "print(\"Original DataFrame shape:\", df.shape)\n",
    "print(\"Shape after quantile filtering:\", df_quantile.shape)"
   ]
  },
  {
   "cell_type": "markdown",
   "id": "d79b8244",
   "metadata": {},
   "source": [
    "### Step 2: Applying Standard Deviation on the Filtered Data\n",
    "\n",
    "Now, on this pre-cleaned `df_quantile` DataFrame, I can apply the standard deviation method. Because real estate data is often still a bit skewed, I will use a more lenient threshold of **4 standard deviations** instead of the typical 3. This helps prevent us from removing too many valid data points."
   ]
  },
  {
   "cell_type": "code",
   "execution_count": 32,
   "id": "bc93a1d7",
   "metadata": {},
   "outputs": [
    {
     "name": "stdout",
     "output_type": "stream",
     "text": [
      "Upper Limit (4 std dev): 23227.74\n",
      "Lower Limit (4 std dev): -9900.43\n"
     ]
    }
   ],
   "source": [
    "mean_pps = df_quantile['price_per_sqft'].mean()\n",
    "std_pps = df_quantile['price_per_sqft'].std()\n",
    "\n",
    "upper_std_lim = mean_pps + 4 * std_pps\n",
    "lower_std_lim = mean_pps - 4 * std_pps\n",
    "\n",
    "print(f\"Upper Limit (4 std dev): {upper_std_lim:.2f}\")\n",
    "print(f\"Lower Limit (4 std dev): {lower_std_lim:.2f}\")"
   ]
  },
  {
   "cell_type": "code",
   "execution_count": 34,
   "id": "118509ae",
   "metadata": {},
   "outputs": [
    {
     "name": "stdout",
     "output_type": "stream",
     "text": [
      "\n",
      "Shape after std dev filtering: (13047, 7)\n"
     ]
    },
    {
     "data": {
      "text/html": [
       "<div>\n",
       "<style scoped>\n",
       "    .dataframe tbody tr th:only-of-type {\n",
       "        vertical-align: middle;\n",
       "    }\n",
       "\n",
       "    .dataframe tbody tr th {\n",
       "        vertical-align: top;\n",
       "    }\n",
       "\n",
       "    .dataframe thead th {\n",
       "        text-align: right;\n",
       "    }\n",
       "</style>\n",
       "<table border=\"1\" class=\"dataframe\">\n",
       "  <thead>\n",
       "    <tr style=\"text-align: right;\">\n",
       "      <th></th>\n",
       "      <th>location</th>\n",
       "      <th>size</th>\n",
       "      <th>total_sqft</th>\n",
       "      <th>bath</th>\n",
       "      <th>price</th>\n",
       "      <th>bhk</th>\n",
       "      <th>price_per_sqft</th>\n",
       "    </tr>\n",
       "  </thead>\n",
       "  <tbody>\n",
       "    <tr>\n",
       "      <th>9927</th>\n",
       "      <td>Banashankari</td>\n",
       "      <td>2 BHK</td>\n",
       "      <td>1175.0</td>\n",
       "      <td>2.0</td>\n",
       "      <td>41.13</td>\n",
       "      <td>2</td>\n",
       "      <td>3500</td>\n",
       "    </tr>\n",
       "    <tr>\n",
       "      <th>852</th>\n",
       "      <td>Kodichikkanahalli</td>\n",
       "      <td>2 BHK</td>\n",
       "      <td>995.0</td>\n",
       "      <td>2.0</td>\n",
       "      <td>41.00</td>\n",
       "      <td>2</td>\n",
       "      <td>4120</td>\n",
       "    </tr>\n",
       "    <tr>\n",
       "      <th>12872</th>\n",
       "      <td>Sarjapur  Road</td>\n",
       "      <td>2 BHK</td>\n",
       "      <td>1367.0</td>\n",
       "      <td>2.0</td>\n",
       "      <td>80.00</td>\n",
       "      <td>2</td>\n",
       "      <td>5852</td>\n",
       "    </tr>\n",
       "    <tr>\n",
       "      <th>4955</th>\n",
       "      <td>Kaggadasapura</td>\n",
       "      <td>2 BHK</td>\n",
       "      <td>1010.0</td>\n",
       "      <td>2.0</td>\n",
       "      <td>55.00</td>\n",
       "      <td>2</td>\n",
       "      <td>5445</td>\n",
       "    </tr>\n",
       "    <tr>\n",
       "      <th>6438</th>\n",
       "      <td>Yeshwanthpur</td>\n",
       "      <td>9 Bedroom</td>\n",
       "      <td>2400.0</td>\n",
       "      <td>6.0</td>\n",
       "      <td>270.00</td>\n",
       "      <td>9</td>\n",
       "      <td>11250</td>\n",
       "    </tr>\n",
       "  </tbody>\n",
       "</table>\n",
       "</div>"
      ],
      "text/plain": [
       "                location       size  total_sqft  bath   price  bhk  \\\n",
       "9927        Banashankari      2 BHK      1175.0   2.0   41.13    2   \n",
       "852    Kodichikkanahalli      2 BHK       995.0   2.0   41.00    2   \n",
       "12872     Sarjapur  Road      2 BHK      1367.0   2.0   80.00    2   \n",
       "4955       Kaggadasapura      2 BHK      1010.0   2.0   55.00    2   \n",
       "6438        Yeshwanthpur  9 Bedroom      2400.0   6.0  270.00    9   \n",
       "\n",
       "       price_per_sqft  \n",
       "9927             3500  \n",
       "852              4120  \n",
       "12872            5852  \n",
       "4955             5445  \n",
       "6438            11250  "
      ]
     },
     "execution_count": 34,
     "metadata": {},
     "output_type": "execute_result"
    }
   ],
   "source": [
    "# Create the final cleaned DataFrame\n",
    "df_std_filtered = df_quantile[(df_quantile['price_per_sqft'] < upper_std_lim) & \n",
    "                              (df_quantile['price_per_sqft'] > lower_std_lim)]\n",
    "\n",
    "print(\"\\nShape after std dev filtering:\", df_std_filtered.shape)\n",
    "df_std_filtered.sample(5)"
   ]
  },
  {
   "cell_type": "markdown",
   "id": "299ce7cb",
   "metadata": {},
   "source": [
    "### Visualizing the Final Distribution\n",
    "\n",
    "After the two-step cleaning process, the histogram of `price_per_sqft` looks more like a normal distribution. This cleaned data is now far more suitable for doing tasks like training a machine learning model."
   ]
  },
  {
   "cell_type": "code",
   "execution_count": 37,
   "id": "d2be36de",
   "metadata": {},
   "outputs": [
    {
     "data": {
      "image/png": "[encoded data removed]",
      "text/plain": [
       "<Figure size 640x480 with 1 Axes>"
      ]
     },
     "metadata": {},
     "output_type": "display_data"
    }
   ],
   "source": [
    "plt.hist(df_std_filtered['price_per_sqft'], bins=20, rwidth=0.9, density=True)\n",
    "plt.xlabel(\"Price Per Square Foot\")\n",
    "plt.ylabel(\"Density\")\n",
    "\n",
    "rng = np.arange(-5000, df_std_filtered['price_per_sqft'].max(), 0.1)\n",
    "plt.plot(rng, norm.pdf(rng, df_std_filtered['price_per_sqft'].mean(), df_std_filtered['price_per_sqft'].std()))\n",
    "plt.show()"
   ]
  },
  {
   "cell_type": "markdown",
   "id": "e9219e50",
   "metadata": {},
   "source": [
    "### Reflection\n",
    "\n",
    "By combining quantile filtering with the standard deviation/Z-score method, I created a robust cleaning pipeline that effectively handles the diverse and skewed nature of real estate pricing data. The resulting dataset is much cleaner and more reliable for analysis or model training."
   ]
  }
 ],
 "metadata": {
  "kernelspec": {
   "display_name": "base",
   "language": "python",
   "name": "python3"
  },
  "language_info": {
   "codemirror_mode": {
    "name": "ipython",
    "version": 3
   },
   "file_extension": ".py",
   "mimetype": "text/x-python",
   "name": "python",
   "nbconvert_exporter": "python",
   "pygments_lexer": "ipython3",
   "version": "3.13.5"
  }
 },
 "nbformat": 4,
 "nbformat_minor": 5
}
